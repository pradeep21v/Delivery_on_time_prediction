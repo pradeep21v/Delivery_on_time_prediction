{
 "cells": [
  {
   "cell_type": "code",
   "execution_count": 1,
   "metadata": {},
   "outputs": [],
   "source": [
    "import numpy as np\n",
    "import pandas as pd\n",
    "import matplotlib.pyplot as plt\n",
    "import seaborn as sns\n"
   ]
  },
  {
   "cell_type": "code",
   "execution_count": 2,
   "metadata": {},
   "outputs": [],
   "source": [
    "import warnings\n",
    "warnings.filterwarnings('ignore')\n",
    "\n",
    "pd.set_option('display.max_columns',None)"
   ]
  },
  {
   "cell_type": "code",
   "execution_count": 3,
   "metadata": {},
   "outputs": [],
   "source": [
    "train_df=pd.read_csv('train.csv',low_memory=False)\n",
    "test_df=pd.read_csv('test.csv',low_memory=False)\n",
    "#low_memory=False - is used to load data fastly "
   ]
  },
  {
   "cell_type": "code",
   "execution_count": 4,
   "metadata": {},
   "outputs": [
    {
     "data": {
      "text/html": [
       "<div>\n",
       "<style scoped>\n",
       "    .dataframe tbody tr th:only-of-type {\n",
       "        vertical-align: middle;\n",
       "    }\n",
       "\n",
       "    .dataframe tbody tr th {\n",
       "        vertical-align: top;\n",
       "    }\n",
       "\n",
       "    .dataframe thead th {\n",
       "        text-align: right;\n",
       "    }\n",
       "</style>\n",
       "<table border=\"1\" class=\"dataframe\">\n",
       "  <thead>\n",
       "    <tr style=\"text-align: right;\">\n",
       "      <th></th>\n",
       "      <th>ID</th>\n",
       "      <th>Warehouse_block</th>\n",
       "      <th>Mode_of_Shipment</th>\n",
       "      <th>Customer_care_calls</th>\n",
       "      <th>Customer_rating</th>\n",
       "      <th>Cost_of_the_Product</th>\n",
       "      <th>Prior_purchases</th>\n",
       "      <th>Product_importance</th>\n",
       "      <th>Gender</th>\n",
       "      <th>Discount_offered</th>\n",
       "      <th>Weight_in_gms</th>\n",
       "      <th>Reached.on.Time_Y.N</th>\n",
       "    </tr>\n",
       "  </thead>\n",
       "  <tbody>\n",
       "    <tr>\n",
       "      <th>0</th>\n",
       "      <td>1</td>\n",
       "      <td>D</td>\n",
       "      <td>Flight</td>\n",
       "      <td>4</td>\n",
       "      <td>2</td>\n",
       "      <td>177</td>\n",
       "      <td>3</td>\n",
       "      <td>low</td>\n",
       "      <td>F</td>\n",
       "      <td>44</td>\n",
       "      <td>1233</td>\n",
       "      <td>1</td>\n",
       "    </tr>\n",
       "    <tr>\n",
       "      <th>1</th>\n",
       "      <td>2</td>\n",
       "      <td>F</td>\n",
       "      <td>Flight</td>\n",
       "      <td>4</td>\n",
       "      <td>5</td>\n",
       "      <td>216</td>\n",
       "      <td>2</td>\n",
       "      <td>low</td>\n",
       "      <td>M</td>\n",
       "      <td>59</td>\n",
       "      <td>3088</td>\n",
       "      <td>1</td>\n",
       "    </tr>\n",
       "    <tr>\n",
       "      <th>2</th>\n",
       "      <td>3</td>\n",
       "      <td>A</td>\n",
       "      <td>Flight</td>\n",
       "      <td>2</td>\n",
       "      <td>2</td>\n",
       "      <td>183</td>\n",
       "      <td>4</td>\n",
       "      <td>low</td>\n",
       "      <td>M</td>\n",
       "      <td>48</td>\n",
       "      <td>3374</td>\n",
       "      <td>1</td>\n",
       "    </tr>\n",
       "    <tr>\n",
       "      <th>3</th>\n",
       "      <td>4</td>\n",
       "      <td>B</td>\n",
       "      <td>Flight</td>\n",
       "      <td>3</td>\n",
       "      <td>3</td>\n",
       "      <td>176</td>\n",
       "      <td>4</td>\n",
       "      <td>medium</td>\n",
       "      <td>M</td>\n",
       "      <td>10</td>\n",
       "      <td>1177</td>\n",
       "      <td>1</td>\n",
       "    </tr>\n",
       "    <tr>\n",
       "      <th>4</th>\n",
       "      <td>5</td>\n",
       "      <td>C</td>\n",
       "      <td>Flight</td>\n",
       "      <td>2</td>\n",
       "      <td>2</td>\n",
       "      <td>184</td>\n",
       "      <td>3</td>\n",
       "      <td>medium</td>\n",
       "      <td>F</td>\n",
       "      <td>46</td>\n",
       "      <td>2484</td>\n",
       "      <td>1</td>\n",
       "    </tr>\n",
       "  </tbody>\n",
       "</table>\n",
       "</div>"
      ],
      "text/plain": [
       "   ID Warehouse_block Mode_of_Shipment  Customer_care_calls  Customer_rating  \\\n",
       "0   1               D           Flight                    4                2   \n",
       "1   2               F           Flight                    4                5   \n",
       "2   3               A           Flight                    2                2   \n",
       "3   4               B           Flight                    3                3   \n",
       "4   5               C           Flight                    2                2   \n",
       "\n",
       "   Cost_of_the_Product  Prior_purchases Product_importance Gender  \\\n",
       "0                  177                3                low      F   \n",
       "1                  216                2                low      M   \n",
       "2                  183                4                low      M   \n",
       "3                  176                4             medium      M   \n",
       "4                  184                3             medium      F   \n",
       "\n",
       "   Discount_offered  Weight_in_gms  Reached.on.Time_Y.N  \n",
       "0                44           1233                    1  \n",
       "1                59           3088                    1  \n",
       "2                48           3374                    1  \n",
       "3                10           1177                    1  \n",
       "4                46           2484                    1  "
      ]
     },
     "execution_count": 4,
     "metadata": {},
     "output_type": "execute_result"
    }
   ],
   "source": [
    "train_df.head()\n"
   ]
  },
  {
   "cell_type": "code",
   "execution_count": 5,
   "metadata": {},
   "outputs": [],
   "source": [
    "train_df['Reached.on.Time_Y.N']=train_df['Reached.on.Time_Y.N'].map({0:'Yes',1:'No'})"
   ]
  },
  {
   "cell_type": "code",
   "execution_count": 6,
   "metadata": {},
   "outputs": [
    {
     "data": {
      "text/html": [
       "<div>\n",
       "<style scoped>\n",
       "    .dataframe tbody tr th:only-of-type {\n",
       "        vertical-align: middle;\n",
       "    }\n",
       "\n",
       "    .dataframe tbody tr th {\n",
       "        vertical-align: top;\n",
       "    }\n",
       "\n",
       "    .dataframe thead th {\n",
       "        text-align: right;\n",
       "    }\n",
       "</style>\n",
       "<table border=\"1\" class=\"dataframe\">\n",
       "  <thead>\n",
       "    <tr style=\"text-align: right;\">\n",
       "      <th></th>\n",
       "      <th>ID</th>\n",
       "      <th>Warehouse_block</th>\n",
       "      <th>Mode_of_Shipment</th>\n",
       "      <th>Customer_care_calls</th>\n",
       "      <th>Customer_rating</th>\n",
       "      <th>Cost_of_the_Product</th>\n",
       "      <th>Prior_purchases</th>\n",
       "      <th>Product_importance</th>\n",
       "      <th>Gender</th>\n",
       "      <th>Discount_offered</th>\n",
       "      <th>Weight_in_gms</th>\n",
       "      <th>Reached.on.Time_Y.N</th>\n",
       "    </tr>\n",
       "  </thead>\n",
       "  <tbody>\n",
       "    <tr>\n",
       "      <th>0</th>\n",
       "      <td>1</td>\n",
       "      <td>D</td>\n",
       "      <td>Flight</td>\n",
       "      <td>4</td>\n",
       "      <td>2</td>\n",
       "      <td>177</td>\n",
       "      <td>3</td>\n",
       "      <td>low</td>\n",
       "      <td>F</td>\n",
       "      <td>44</td>\n",
       "      <td>1233</td>\n",
       "      <td>No</td>\n",
       "    </tr>\n",
       "    <tr>\n",
       "      <th>1</th>\n",
       "      <td>2</td>\n",
       "      <td>F</td>\n",
       "      <td>Flight</td>\n",
       "      <td>4</td>\n",
       "      <td>5</td>\n",
       "      <td>216</td>\n",
       "      <td>2</td>\n",
       "      <td>low</td>\n",
       "      <td>M</td>\n",
       "      <td>59</td>\n",
       "      <td>3088</td>\n",
       "      <td>No</td>\n",
       "    </tr>\n",
       "    <tr>\n",
       "      <th>2</th>\n",
       "      <td>3</td>\n",
       "      <td>A</td>\n",
       "      <td>Flight</td>\n",
       "      <td>2</td>\n",
       "      <td>2</td>\n",
       "      <td>183</td>\n",
       "      <td>4</td>\n",
       "      <td>low</td>\n",
       "      <td>M</td>\n",
       "      <td>48</td>\n",
       "      <td>3374</td>\n",
       "      <td>No</td>\n",
       "    </tr>\n",
       "    <tr>\n",
       "      <th>3</th>\n",
       "      <td>4</td>\n",
       "      <td>B</td>\n",
       "      <td>Flight</td>\n",
       "      <td>3</td>\n",
       "      <td>3</td>\n",
       "      <td>176</td>\n",
       "      <td>4</td>\n",
       "      <td>medium</td>\n",
       "      <td>M</td>\n",
       "      <td>10</td>\n",
       "      <td>1177</td>\n",
       "      <td>No</td>\n",
       "    </tr>\n",
       "    <tr>\n",
       "      <th>4</th>\n",
       "      <td>5</td>\n",
       "      <td>C</td>\n",
       "      <td>Flight</td>\n",
       "      <td>2</td>\n",
       "      <td>2</td>\n",
       "      <td>184</td>\n",
       "      <td>3</td>\n",
       "      <td>medium</td>\n",
       "      <td>F</td>\n",
       "      <td>46</td>\n",
       "      <td>2484</td>\n",
       "      <td>No</td>\n",
       "    </tr>\n",
       "  </tbody>\n",
       "</table>\n",
       "</div>"
      ],
      "text/plain": [
       "   ID Warehouse_block Mode_of_Shipment  Customer_care_calls  Customer_rating  \\\n",
       "0   1               D           Flight                    4                2   \n",
       "1   2               F           Flight                    4                5   \n",
       "2   3               A           Flight                    2                2   \n",
       "3   4               B           Flight                    3                3   \n",
       "4   5               C           Flight                    2                2   \n",
       "\n",
       "   Cost_of_the_Product  Prior_purchases Product_importance Gender  \\\n",
       "0                  177                3                low      F   \n",
       "1                  216                2                low      M   \n",
       "2                  183                4                low      M   \n",
       "3                  176                4             medium      M   \n",
       "4                  184                3             medium      F   \n",
       "\n",
       "   Discount_offered  Weight_in_gms Reached.on.Time_Y.N  \n",
       "0                44           1233                  No  \n",
       "1                59           3088                  No  \n",
       "2                48           3374                  No  \n",
       "3                10           1177                  No  \n",
       "4                46           2484                  No  "
      ]
     },
     "execution_count": 6,
     "metadata": {},
     "output_type": "execute_result"
    }
   ],
   "source": [
    "train_df.head()"
   ]
  },
  {
   "cell_type": "code",
   "execution_count": 7,
   "metadata": {},
   "outputs": [
    {
     "data": {
      "text/html": [
       "<div>\n",
       "<style scoped>\n",
       "    .dataframe tbody tr th:only-of-type {\n",
       "        vertical-align: middle;\n",
       "    }\n",
       "\n",
       "    .dataframe tbody tr th {\n",
       "        vertical-align: top;\n",
       "    }\n",
       "\n",
       "    .dataframe thead th {\n",
       "        text-align: right;\n",
       "    }\n",
       "</style>\n",
       "<table border=\"1\" class=\"dataframe\">\n",
       "  <thead>\n",
       "    <tr style=\"text-align: right;\">\n",
       "      <th></th>\n",
       "      <th>ID</th>\n",
       "      <th>Warehouse_block</th>\n",
       "      <th>Mode_of_Shipment</th>\n",
       "      <th>Customer_care_calls</th>\n",
       "      <th>Customer_rating</th>\n",
       "      <th>Cost_of_the_Product</th>\n",
       "      <th>Prior_purchases</th>\n",
       "      <th>Product_importance</th>\n",
       "      <th>Gender</th>\n",
       "      <th>Discount_offered</th>\n",
       "      <th>Weight_in_gms</th>\n",
       "      <th>Reached.on.Time_Y.N</th>\n",
       "    </tr>\n",
       "  </thead>\n",
       "  <tbody>\n",
       "    <tr>\n",
       "      <th>0</th>\n",
       "      <td>1</td>\n",
       "      <td>A</td>\n",
       "      <td>Road</td>\n",
       "      <td>3</td>\n",
       "      <td>4</td>\n",
       "      <td>168</td>\n",
       "      <td>3</td>\n",
       "      <td>low</td>\n",
       "      <td>M</td>\n",
       "      <td>5</td>\n",
       "      <td>1841</td>\n",
       "      <td>NaN</td>\n",
       "    </tr>\n",
       "    <tr>\n",
       "      <th>1</th>\n",
       "      <td>2</td>\n",
       "      <td>B</td>\n",
       "      <td>Road</td>\n",
       "      <td>5</td>\n",
       "      <td>3</td>\n",
       "      <td>159</td>\n",
       "      <td>2</td>\n",
       "      <td>low</td>\n",
       "      <td>F</td>\n",
       "      <td>58</td>\n",
       "      <td>1990</td>\n",
       "      <td>NaN</td>\n",
       "    </tr>\n",
       "    <tr>\n",
       "      <th>2</th>\n",
       "      <td>3</td>\n",
       "      <td>C</td>\n",
       "      <td>Road</td>\n",
       "      <td>2</td>\n",
       "      <td>2</td>\n",
       "      <td>282</td>\n",
       "      <td>3</td>\n",
       "      <td>medium</td>\n",
       "      <td>F</td>\n",
       "      <td>42</td>\n",
       "      <td>3193</td>\n",
       "      <td>NaN</td>\n",
       "    </tr>\n",
       "    <tr>\n",
       "      <th>3</th>\n",
       "      <td>4</td>\n",
       "      <td>F</td>\n",
       "      <td>Road</td>\n",
       "      <td>4</td>\n",
       "      <td>3</td>\n",
       "      <td>278</td>\n",
       "      <td>4</td>\n",
       "      <td>high</td>\n",
       "      <td>M</td>\n",
       "      <td>37</td>\n",
       "      <td>3248</td>\n",
       "      <td>NaN</td>\n",
       "    </tr>\n",
       "    <tr>\n",
       "      <th>4</th>\n",
       "      <td>5</td>\n",
       "      <td>D</td>\n",
       "      <td>Road</td>\n",
       "      <td>6</td>\n",
       "      <td>4</td>\n",
       "      <td>256</td>\n",
       "      <td>5</td>\n",
       "      <td>low</td>\n",
       "      <td>F</td>\n",
       "      <td>6</td>\n",
       "      <td>3149</td>\n",
       "      <td>NaN</td>\n",
       "    </tr>\n",
       "  </tbody>\n",
       "</table>\n",
       "</div>"
      ],
      "text/plain": [
       "   ID Warehouse_block Mode_of_Shipment  Customer_care_calls  Customer_rating  \\\n",
       "0   1               A             Road                    3                4   \n",
       "1   2               B             Road                    5                3   \n",
       "2   3               C             Road                    2                2   \n",
       "3   4               F             Road                    4                3   \n",
       "4   5               D             Road                    6                4   \n",
       "\n",
       "   Cost_of_the_Product  Prior_purchases Product_importance Gender  \\\n",
       "0                  168                3                low      M   \n",
       "1                  159                2                low      F   \n",
       "2                  282                3             medium      F   \n",
       "3                  278                4               high      M   \n",
       "4                  256                5                low      F   \n",
       "\n",
       "   Discount_offered  Weight_in_gms  Reached.on.Time_Y.N  \n",
       "0                 5           1841                  NaN  \n",
       "1                58           1990                  NaN  \n",
       "2                42           3193                  NaN  \n",
       "3                37           3248                  NaN  \n",
       "4                 6           3149                  NaN  "
      ]
     },
     "execution_count": 7,
     "metadata": {},
     "output_type": "execute_result"
    }
   ],
   "source": [
    "test_df.head()"
   ]
  },
  {
   "cell_type": "code",
   "execution_count": 8,
   "metadata": {},
   "outputs": [],
   "source": [
    "#dropping test_df last column because it has nan values\n",
    "test_df=test_df.drop('Reached.on.Time_Y.N',axis=1)\n",
    "\n",
    "#dropping id columns in both data frames because its unique values\n",
    "test_df=test_df.drop(\"ID\",axis=1)\n",
    "train_df=train_df.drop(\"ID\",axis=1)"
   ]
  },
  {
   "cell_type": "code",
   "execution_count": 9,
   "metadata": {},
   "outputs": [
    {
     "name": "stdout",
     "output_type": "stream",
     "text": [
      "(10999, 11)\n",
      "(3993, 10)\n"
     ]
    }
   ],
   "source": [
    "print(train_df.shape)\n",
    "print(test_df.shape)"
   ]
  },
  {
   "cell_type": "code",
   "execution_count": 10,
   "metadata": {},
   "outputs": [
    {
     "data": {
      "text/plain": [
       "Warehouse_block        0\n",
       "Mode_of_Shipment       0\n",
       "Customer_care_calls    0\n",
       "Customer_rating        0\n",
       "Cost_of_the_Product    0\n",
       "Prior_purchases        0\n",
       "Product_importance     0\n",
       "Gender                 0\n",
       "Discount_offered       0\n",
       "Weight_in_gms          0\n",
       "Reached.on.Time_Y.N    0\n",
       "dtype: int64"
      ]
     },
     "execution_count": 10,
     "metadata": {},
     "output_type": "execute_result"
    }
   ],
   "source": [
    "train_df.isnull().sum()"
   ]
  },
  {
   "cell_type": "code",
   "execution_count": 11,
   "metadata": {},
   "outputs": [
    {
     "data": {
      "text/plain": [
       "Warehouse_block        0\n",
       "Mode_of_Shipment       0\n",
       "Customer_care_calls    0\n",
       "Customer_rating        0\n",
       "Cost_of_the_Product    0\n",
       "Prior_purchases        0\n",
       "Product_importance     0\n",
       "Gender                 0\n",
       "Discount_offered       0\n",
       "Weight_in_gms          0\n",
       "dtype: int64"
      ]
     },
     "execution_count": 11,
     "metadata": {},
     "output_type": "execute_result"
    }
   ],
   "source": [
    "test_df.isnull().sum()"
   ]
  },
  {
   "cell_type": "code",
   "execution_count": 12,
   "metadata": {},
   "outputs": [
    {
     "data": {
      "text/plain": [
       "Warehouse_block        0.0\n",
       "Mode_of_Shipment       0.0\n",
       "Customer_care_calls    0.0\n",
       "Customer_rating        0.0\n",
       "Cost_of_the_Product    0.0\n",
       "Prior_purchases        0.0\n",
       "Product_importance     0.0\n",
       "Gender                 0.0\n",
       "Discount_offered       0.0\n",
       "Weight_in_gms          0.0\n",
       "dtype: float64"
      ]
     },
     "execution_count": 12,
     "metadata": {},
     "output_type": "execute_result"
    }
   ],
   "source": [
    "test_df.isnull().sum()/test_df.shape[0]  #missing value in percentage"
   ]
  },
  {
   "cell_type": "code",
   "execution_count": 13,
   "metadata": {},
   "outputs": [
    {
     "data": {
      "text/plain": [
       "0"
      ]
     },
     "execution_count": 13,
     "metadata": {},
     "output_type": "execute_result"
    }
   ],
   "source": [
    "train_df.duplicated().sum()"
   ]
  },
  {
   "cell_type": "code",
   "execution_count": 14,
   "metadata": {},
   "outputs": [
    {
     "data": {
      "text/plain": [
       "0       False\n",
       "1       False\n",
       "2       False\n",
       "3       False\n",
       "4       False\n",
       "        ...  \n",
       "3988    False\n",
       "3989    False\n",
       "3990    False\n",
       "3991    False\n",
       "3992    False\n",
       "Length: 3993, dtype: bool"
      ]
     },
     "execution_count": 14,
     "metadata": {},
     "output_type": "execute_result"
    }
   ],
   "source": [
    "test_df.duplicated()"
   ]
  },
  {
   "cell_type": "code",
   "execution_count": 15,
   "metadata": {},
   "outputs": [
    {
     "data": {
      "text/plain": [
       "0"
      ]
     },
     "execution_count": 15,
     "metadata": {},
     "output_type": "execute_result"
    }
   ],
   "source": [
    "test_df.duplicated().sum()"
   ]
  },
  {
   "cell_type": "code",
   "execution_count": 17,
   "metadata": {},
   "outputs": [
    {
     "data": {
      "text/plain": [
       "<matplotlib.axes._subplots.AxesSubplot at 0x1da2068ef08>"
      ]
     },
     "execution_count": 17,
     "metadata": {},
     "output_type": "execute_result"
    },
    {
     "data": {
      "image/png": "[encoded data removed]",
      "text/plain": [
       "<Figure size 864x432 with 1 Axes>"
      ]
     },
     "metadata": {},
     "output_type": "display_data"
    }
   ],
   "source": [
    "sns.set(rc={'figure.figsize':(12,6)})\n",
    "sns.countplot(x='Reached.on.Time_Y.N',data=train_df)"
   ]
  },
  {
   "cell_type": "code",
   "execution_count": 18,
   "metadata": {},
   "outputs": [
    {
     "data": {
      "text/plain": [
       "<matplotlib.axes._subplots.AxesSubplot at 0x1da20734808>"
      ]
     },
     "execution_count": 18,
     "metadata": {},
     "output_type": "execute_result"
    },
    {
     "data": {
      "image/png": "[encoded data removed]",
      "text/plain": [
       "<Figure size 576x576 with 1 Axes>"
      ]
     },
     "metadata": {},
     "output_type": "display_data"
    }
   ],
   "source": [
    "train_df.groupby('Reached.on.Time_Y.N').size().plot(kind='pie',autopct='%0.1f',figsize=(8,8))"
   ]
  },
  {
   "cell_type": "markdown",
   "metadata": {},
   "source": [
    "#### Not Reached On Time:40.33% of the dataset  \n",
    "#### Reached on Time :59.67% of the dataset\n",
    "\n",
    "#### so the data set is almost balanced,if you order something then there is 59.67% chance that it will not reach on time"
   ]
  },
  {
   "cell_type": "markdown",
   "metadata": {},
   "source": [
    "### Problem Statement\n",
    "* They also want to know,if their shipments are reaching on time to their best customers who have a:\n",
    "* Good Customer rating.\n",
    "* Good Customer score.\n",
    "* Make recurring orders.\n",
    "* Highest payment buyers."
   ]
  },
  {
   "cell_type": "code",
   "execution_count": 20,
   "metadata": {},
   "outputs": [
    {
     "data": {
      "text/plain": [
       "<matplotlib.axes._subplots.AxesSubplot at 0x1da20792548>"
      ]
     },
     "execution_count": 20,
     "metadata": {},
     "output_type": "execute_result"
    },
    {
     "data": {
      "image/png": "[encoded data removed]",
      "text/plain": [
       "<Figure size 864x432 with 1 Axes>"
      ]
     },
     "metadata": {},
     "output_type": "display_data"
    }
   ],
   "source": [
    "sns.set(rc={'figure.figsize':(12,6)})\n",
    "sns.countplot(x='Reached.on.Time_Y.N',hue='Customer_rating',data=train_df)"
   ]
  },
  {
   "cell_type": "code",
   "execution_count": 21,
   "metadata": {
    "scrolled": true
   },
   "outputs": [
    {
     "data": {
      "text/plain": [
       "<matplotlib.axes._subplots.AxesSubplot at 0x1da20725788>"
      ]
     },
     "execution_count": 21,
     "metadata": {},
     "output_type": "execute_result"
    },
    {
     "data": {
      "image/png": "[encoded data removed]",
      "text/plain": [
       "<Figure size 864x432 with 1 Axes>"
      ]
     },
     "metadata": {},
     "output_type": "display_data"
    }
   ],
   "source": [
    "sns.set(rc={'figure.figsize':(12,6)})\n",
    "sns.countplot(x='Customer_rating',hue='Reached.on.Time_Y.N',data=train_df)"
   ]
  },
  {
   "cell_type": "code",
   "execution_count": 22,
   "metadata": {},
   "outputs": [
    {
     "data": {
      "text/plain": [
       "<matplotlib.axes._subplots.AxesSubplot at 0x1da20725fc8>"
      ]
     },
     "execution_count": 22,
     "metadata": {},
     "output_type": "execute_result"
    },
    {
     "data": {
      "image/png": "[encoded data removed]",
      "text/plain": [
       "<Figure size 864x432 with 1 Axes>"
      ]
     },
     "metadata": {},
     "output_type": "display_data"
    }
   ],
   "source": [
    "sns.set(rc={'figure.figsize':(12,6)})\n",
    "sns.countplot(x='Prior_purchases',hue='Reached.on.Time_Y.N',data=train_df)"
   ]
  },
  {
   "cell_type": "code",
   "execution_count": 23,
   "metadata": {},
   "outputs": [
    {
     "data": {
      "text/plain": [
       "<matplotlib.axes._subplots.AxesSubplot at 0x1da205843c8>"
      ]
     },
     "execution_count": 23,
     "metadata": {},
     "output_type": "execute_result"
    },
    {
     "data": {
      "image/png": "[encoded data removed]",
      "text/plain": [
       "<Figure size 1008x432 with 1 Axes>"
      ]
     },
     "metadata": {},
     "output_type": "display_data"
    }
   ],
   "source": [
    "plt.figure(figsize=(14,6))\n",
    "\n",
    "sns.pointplot(x='Customer_rating',y='Cost_of_the_Product',hue='Reached.on.Time_Y.N',data=train_df)\n"
   ]
  },
  {
   "cell_type": "markdown",
   "metadata": {},
   "source": [
    "### Same lineplot as above only extra customization."
   ]
  },
  {
   "cell_type": "code",
   "execution_count": 24,
   "metadata": {},
   "outputs": [
    {
     "data": {
      "image/png": "[encoded data removed]",
      "text/plain": [
       "<Figure size 1008x432 with 1 Axes>"
      ]
     },
     "metadata": {},
     "output_type": "display_data"
    }
   ],
   "source": [
    "plt.figure(figsize=(14,6))\n",
    "\n",
    "g=sns.pointplot(x='Customer_rating',y='Cost_of_the_Product',hue='Reached.on.Time_Y.N',data=train_df)\n",
    "\n",
    "g.set_xticklabels(g.get_xticklabels(),rotation=90)\n",
    "\n",
    "g.set_xlabel(\"Customer_rating\",fontsize=15)\n",
    "g.set_ylabel(\"Cost_of_the_Product\",fontsize=15)\n",
    "\n",
    "g.set_title(\"Cost of the product\",fontsize=20)\n",
    "plt.legend(bbox_to_anchor=(1,1),loc=2,borderaxespad=0.5)\n",
    "plt.show()"
   ]
  },
  {
   "cell_type": "markdown",
   "metadata": {},
   "source": [
    "#### product with high cost are delivered to the customer on time"
   ]
  },
  {
   "cell_type": "code",
   "execution_count": 25,
   "metadata": {},
   "outputs": [
    {
     "data": {
      "text/plain": [
       "<matplotlib.axes._subplots.AxesSubplot at 0x1da20afd588>"
      ]
     },
     "execution_count": 25,
     "metadata": {},
     "output_type": "execute_result"
    },
    {
     "data": {
      "image/png": "[encoded data removed]",
      "text/plain": [
       "<Figure size 864x432 with 1 Axes>"
      ]
     },
     "metadata": {},
     "output_type": "display_data"
    }
   ],
   "source": [
    "sns.set(rc={'figure.figsize':(12,6)})\n",
    "sns.countplot(x='Product_importance',hue='Reached.on.Time_Y.N',data=train_df)"
   ]
  },
  {
   "cell_type": "code",
   "execution_count": 26,
   "metadata": {},
   "outputs": [
    {
     "data": {
      "text/plain": [
       "<matplotlib.axes._subplots.AxesSubplot at 0x1da210b7c88>"
      ]
     },
     "execution_count": 26,
     "metadata": {},
     "output_type": "execute_result"
    },
    {
     "data": {
      "image/png": "[encoded data removed]",
      "text/plain": [
       "<Figure size 864x432 with 1 Axes>"
      ]
     },
     "metadata": {},
     "output_type": "display_data"
    }
   ],
   "source": [
    "sns.set(rc={'figure.figsize':(12,6)})\n",
    "sns.countplot(x='Mode_of_Shipment',hue='Reached.on.Time_Y.N',data=train_df)"
   ]
  },
  {
   "cell_type": "code",
   "execution_count": 27,
   "metadata": {},
   "outputs": [
    {
     "data": {
      "text/plain": [
       "<matplotlib.axes._subplots.AxesSubplot at 0x1da21128348>"
      ]
     },
     "execution_count": 27,
     "metadata": {},
     "output_type": "execute_result"
    },
    {
     "data": {
      "image/png": "[encoded data removed]",
      "text/plain": [
       "<Figure size 864x432 with 1 Axes>"
      ]
     },
     "metadata": {},
     "output_type": "display_data"
    }
   ],
   "source": [
    "sns.set(rc={'figure.figsize':(12,6)})\n",
    "sns.countplot(x='Mode_of_Shipment',hue='Reached.on.Time_Y.N',data=train_df)"
   ]
  },
  {
   "cell_type": "code",
   "execution_count": 28,
   "metadata": {},
   "outputs": [
    {
     "data": {
      "text/plain": [
       "<matplotlib.axes._subplots.AxesSubplot at 0x1da2118fa08>"
      ]
     },
     "execution_count": 28,
     "metadata": {},
     "output_type": "execute_result"
    },
    {
     "data": {
      "image/png": "[encoded data removed]",
      "text/plain": [
       "<Figure size 864x432 with 1 Axes>"
      ]
     },
     "metadata": {},
     "output_type": "display_data"
    }
   ],
   "source": [
    "sns.set(rc={'figure.figsize':(12,6)})\n",
    "sns.countplot(x='Warehouse_block',hue='Reached.on.Time_Y.N',data=train_df)"
   ]
  },
  {
   "cell_type": "markdown",
   "metadata": {},
   "source": [
    "### Box-Plot"
   ]
  },
  {
   "cell_type": "code",
   "execution_count": 29,
   "metadata": {},
   "outputs": [
    {
     "data": {
      "image/png": "[encoded data removed]",
      "text/plain": [
       "<Figure size 864x432 with 1 Axes>"
      ]
     },
     "metadata": {},
     "output_type": "display_data"
    },
    {
     "data": {
      "image/png": "[encoded data removed]",
      "text/plain": [
       "<Figure size 864x432 with 1 Axes>"
      ]
     },
     "metadata": {},
     "output_type": "display_data"
    },
    {
     "data": {
      "image/png": "[encoded data removed]",
      "text/plain": [
       "<Figure size 864x432 with 1 Axes>"
      ]
     },
     "metadata": {},
     "output_type": "display_data"
    },
    {
     "data": {
      "image/png": "[encoded data removed]",
      "text/plain": [
       "<Figure size 864x432 with 1 Axes>"
      ]
     },
     "metadata": {},
     "output_type": "display_data"
    },
    {
     "data": {
      "image/png": "[encoded data removed]",
      "text/plain": [
       "<Figure size 864x432 with 1 Axes>"
      ]
     },
     "metadata": {},
     "output_type": "display_data"
    },
    {
     "data": {
      "image/png": "[encoded data removed]",
      "text/plain": [
       "<Figure size 864x432 with 1 Axes>"
      ]
     },
     "metadata": {},
     "output_type": "display_data"
    }
   ],
   "source": [
    "for column in train_df.columns:\n",
    "    if train_df[column].dtype !=object:\n",
    "        train_df.boxplot(column)\n",
    "        plt.show()"
   ]
  },
  {
   "cell_type": "markdown",
   "metadata": {},
   "source": [
    "#### two variable prior purchase and discounted offers has outlier present"
   ]
  },
  {
   "cell_type": "markdown",
   "metadata": {},
   "source": [
    "### Corelation"
   ]
  },
  {
   "cell_type": "code",
   "execution_count": 30,
   "metadata": {},
   "outputs": [
    {
     "data": {
      "image/png": "[encoded data removed]",
      "text/plain": [
       "<Figure size 1440x720 with 2 Axes>"
      ]
     },
     "metadata": {},
     "output_type": "display_data"
    }
   ],
   "source": [
    "# Using Pearson Correlation\n",
    "\n",
    "plt.figure(figsize=(20,10))\n",
    "cor=train_df.corr()\n",
    "sns.heatmap(cor,annot=True,vmax=1.0,vmin=-1.0)\n",
    "plt.show()"
   ]
  },
  {
   "cell_type": "markdown",
   "metadata": {},
   "source": [
    "### Data Preprocessing"
   ]
  },
  {
   "cell_type": "code",
   "execution_count": 31,
   "metadata": {},
   "outputs": [
    {
     "name": "stdout",
     "output_type": "stream",
     "text": [
      "#####   Warehouse_block #####\n",
      "F    3666\n",
      "D    1834\n",
      "A    1833\n",
      "C    1833\n",
      "B    1833\n",
      "Name: Warehouse_block, dtype: int64\n",
      "\n",
      "#####   Mode_of_Shipment #####\n",
      "Ship      7462\n",
      "Flight    1777\n",
      "Road      1760\n",
      "Name: Mode_of_Shipment, dtype: int64\n",
      "\n",
      "#####   Customer_care_calls #####\n",
      "4    3557\n",
      "3    3217\n",
      "5    2328\n",
      "6    1013\n",
      "2     638\n",
      "7     246\n",
      "Name: Customer_care_calls, dtype: int64\n",
      "\n",
      "#####   Customer_rating #####\n",
      "3    2239\n",
      "1    2235\n",
      "4    2189\n",
      "5    2171\n",
      "2    2165\n",
      "Name: Customer_rating, dtype: int64\n",
      "\n",
      "#####   Cost_of_the_Product #####\n",
      "245    110\n",
      "257    109\n",
      "260    106\n",
      "254    101\n",
      "264    100\n",
      "      ... \n",
      "99       5\n",
      "107      5\n",
      "120      5\n",
      "96       5\n",
      "122      4\n",
      "Name: Cost_of_the_Product, Length: 215, dtype: int64\n",
      "\n",
      "#####   Prior_purchases #####\n",
      "3     3955\n",
      "2     2599\n",
      "4     2155\n",
      "5     1287\n",
      "6      561\n",
      "10     178\n",
      "7      136\n",
      "8      128\n",
      "Name: Prior_purchases, dtype: int64\n",
      "\n",
      "#####   Product_importance #####\n",
      "low       5297\n",
      "medium    4754\n",
      "high       948\n",
      "Name: Product_importance, dtype: int64\n",
      "\n",
      "#####   Gender #####\n",
      "F    5545\n",
      "M    5454\n",
      "Name: Gender, dtype: int64\n",
      "\n",
      "#####   Discount_offered #####\n",
      "10    860\n",
      "2     858\n",
      "6     849\n",
      "9     845\n",
      "3     840\n",
      "     ... \n",
      "65     36\n",
      "26     36\n",
      "42     35\n",
      "25     34\n",
      "30     34\n",
      "Name: Discount_offered, Length: 65, dtype: int64\n",
      "\n",
      "#####   Weight_in_gms #####\n",
      "4883    12\n",
      "4314    10\n",
      "5672    10\n",
      "1005    10\n",
      "1145    10\n",
      "        ..\n",
      "1963     1\n",
      "1971     1\n",
      "1987     1\n",
      "4050     1\n",
      "2049     1\n",
      "Name: Weight_in_gms, Length: 4034, dtype: int64\n",
      "\n",
      "#####   Reached.on.Time_Y.N #####\n",
      "No     6563\n",
      "Yes    4436\n",
      "Name: Reached.on.Time_Y.N, dtype: int64\n",
      "\n"
     ]
    }
   ],
   "source": [
    "for i in train_df.columns:\n",
    "    print(\"#####  \"  ,i ,\"#####\")\n",
    "    print(train_df[i].value_counts())\n",
    "    print()"
   ]
  },
  {
   "cell_type": "markdown",
   "metadata": {},
   "source": [
    "### Manual Label Encoding"
   ]
  },
  {
   "cell_type": "code",
   "execution_count": 32,
   "metadata": {},
   "outputs": [
    {
     "data": {
      "text/plain": [
       "No     6563\n",
       "Yes    4436\n",
       "Name: Reached.on.Time_Y.N, dtype: int64"
      ]
     },
     "execution_count": 32,
     "metadata": {},
     "output_type": "execute_result"
    }
   ],
   "source": [
    "#Reached.On.Time\n",
    "train_df['Reached.on.Time_Y.N'].value_counts()"
   ]
  },
  {
   "cell_type": "code",
   "execution_count": 33,
   "metadata": {},
   "outputs": [],
   "source": [
    "train_df['Reached.on.Time_Y.N']=train_df['Reached.on.Time_Y.N'].map({\"Yes\":1,\"No\":0})"
   ]
  },
  {
   "cell_type": "code",
   "execution_count": 34,
   "metadata": {},
   "outputs": [
    {
     "data": {
      "text/plain": [
       "F    3666\n",
       "D    1834\n",
       "A    1833\n",
       "C    1833\n",
       "B    1833\n",
       "Name: Warehouse_block, dtype: int64"
      ]
     },
     "execution_count": 34,
     "metadata": {},
     "output_type": "execute_result"
    }
   ],
   "source": [
    "#warehouse Block\n",
    "train_df['Warehouse_block'].value_counts()"
   ]
  },
  {
   "cell_type": "code",
   "execution_count": 35,
   "metadata": {},
   "outputs": [],
   "source": [
    "wb={\"A\":1,\"B\":2,\"C\":3,\"D\":4,\"F\":5}"
   ]
  },
  {
   "cell_type": "code",
   "execution_count": 36,
   "metadata": {},
   "outputs": [],
   "source": [
    "#Label Encoding for warehouse block on train and test data\n",
    "train_df['Warehouse_block']=train_df['Warehouse_block'].map(wb)\n",
    "test_df['Warehouse_block']=test_df['Warehouse_block'].map(wb)"
   ]
  },
  {
   "cell_type": "code",
   "execution_count": 37,
   "metadata": {},
   "outputs": [
    {
     "data": {
      "text/plain": [
       "Ship      7462\n",
       "Flight    1777\n",
       "Road      1760\n",
       "Name: Mode_of_Shipment, dtype: int64"
      ]
     },
     "execution_count": 37,
     "metadata": {},
     "output_type": "execute_result"
    }
   ],
   "source": [
    "#mode of shipment \n",
    "train_df[\"Mode_of_Shipment\"].value_counts()"
   ]
  },
  {
   "cell_type": "code",
   "execution_count": 38,
   "metadata": {},
   "outputs": [],
   "source": [
    "ms={\"Ship\":1,\"Flight\":2,\"Road\":3}"
   ]
  },
  {
   "cell_type": "code",
   "execution_count": 39,
   "metadata": {},
   "outputs": [],
   "source": [
    "#Label Encoding for Mode_of_shipment block on train and test data\n",
    "train_df['Mode_of_Shipment']=train_df['Mode_of_Shipment'].map(ms)\n",
    "test_df['Mode_of_Shipment']=test_df['Mode_of_Shipment'].map(ms)"
   ]
  },
  {
   "cell_type": "code",
   "execution_count": 40,
   "metadata": {},
   "outputs": [
    {
     "data": {
      "text/plain": [
       "low       5297\n",
       "medium    4754\n",
       "high       948\n",
       "Name: Product_importance, dtype: int64"
      ]
     },
     "execution_count": 40,
     "metadata": {},
     "output_type": "execute_result"
    }
   ],
   "source": [
    "#Product Importance\n",
    "train_df['Product_importance'].value_counts()"
   ]
  },
  {
   "cell_type": "code",
   "execution_count": 41,
   "metadata": {},
   "outputs": [],
   "source": [
    "pi={\"low\":1,\"medium\":2,\"high\":3}"
   ]
  },
  {
   "cell_type": "code",
   "execution_count": 42,
   "metadata": {},
   "outputs": [],
   "source": [
    "#Label Encoding for Product_importance block on train and test data\n",
    "train_df['Product_importance']=train_df['Product_importance'].map(pi)\n",
    "test_df['Product_importance']=test_df['Product_importance'].map(pi)"
   ]
  },
  {
   "cell_type": "code",
   "execution_count": 43,
   "metadata": {},
   "outputs": [
    {
     "data": {
      "text/plain": [
       "F    5545\n",
       "M    5454\n",
       "Name: Gender, dtype: int64"
      ]
     },
     "execution_count": 43,
     "metadata": {},
     "output_type": "execute_result"
    }
   ],
   "source": [
    "#Gender\n",
    "train_df['Gender'].value_counts()"
   ]
  },
  {
   "cell_type": "code",
   "execution_count": 44,
   "metadata": {},
   "outputs": [],
   "source": [
    "ge={\"F\":0,\"M\":1}"
   ]
  },
  {
   "cell_type": "code",
   "execution_count": 45,
   "metadata": {},
   "outputs": [],
   "source": [
    "#Label Encoding for Gender block on train and test data\n",
    "train_df['Gender']=train_df['Gender'].map(ge)\n",
    "test_df['Gender']=test_df['Gender'].map(ge)"
   ]
  },
  {
   "cell_type": "code",
   "execution_count": 46,
   "metadata": {},
   "outputs": [
    {
     "data": {
      "text/html": [
       "<div>\n",
       "<style scoped>\n",
       "    .dataframe tbody tr th:only-of-type {\n",
       "        vertical-align: middle;\n",
       "    }\n",
       "\n",
       "    .dataframe tbody tr th {\n",
       "        vertical-align: top;\n",
       "    }\n",
       "\n",
       "    .dataframe thead th {\n",
       "        text-align: right;\n",
       "    }\n",
       "</style>\n",
       "<table border=\"1\" class=\"dataframe\">\n",
       "  <thead>\n",
       "    <tr style=\"text-align: right;\">\n",
       "      <th></th>\n",
       "      <th>Warehouse_block</th>\n",
       "      <th>Mode_of_Shipment</th>\n",
       "      <th>Customer_care_calls</th>\n",
       "      <th>Customer_rating</th>\n",
       "      <th>Cost_of_the_Product</th>\n",
       "      <th>Prior_purchases</th>\n",
       "      <th>Product_importance</th>\n",
       "      <th>Gender</th>\n",
       "      <th>Discount_offered</th>\n",
       "      <th>Weight_in_gms</th>\n",
       "      <th>Reached.on.Time_Y.N</th>\n",
       "    </tr>\n",
       "  </thead>\n",
       "  <tbody>\n",
       "    <tr>\n",
       "      <th>0</th>\n",
       "      <td>4</td>\n",
       "      <td>2</td>\n",
       "      <td>4</td>\n",
       "      <td>2</td>\n",
       "      <td>177</td>\n",
       "      <td>3</td>\n",
       "      <td>1</td>\n",
       "      <td>0</td>\n",
       "      <td>44</td>\n",
       "      <td>1233</td>\n",
       "      <td>0</td>\n",
       "    </tr>\n",
       "    <tr>\n",
       "      <th>1</th>\n",
       "      <td>5</td>\n",
       "      <td>2</td>\n",
       "      <td>4</td>\n",
       "      <td>5</td>\n",
       "      <td>216</td>\n",
       "      <td>2</td>\n",
       "      <td>1</td>\n",
       "      <td>1</td>\n",
       "      <td>59</td>\n",
       "      <td>3088</td>\n",
       "      <td>0</td>\n",
       "    </tr>\n",
       "    <tr>\n",
       "      <th>2</th>\n",
       "      <td>1</td>\n",
       "      <td>2</td>\n",
       "      <td>2</td>\n",
       "      <td>2</td>\n",
       "      <td>183</td>\n",
       "      <td>4</td>\n",
       "      <td>1</td>\n",
       "      <td>1</td>\n",
       "      <td>48</td>\n",
       "      <td>3374</td>\n",
       "      <td>0</td>\n",
       "    </tr>\n",
       "    <tr>\n",
       "      <th>3</th>\n",
       "      <td>2</td>\n",
       "      <td>2</td>\n",
       "      <td>3</td>\n",
       "      <td>3</td>\n",
       "      <td>176</td>\n",
       "      <td>4</td>\n",
       "      <td>2</td>\n",
       "      <td>1</td>\n",
       "      <td>10</td>\n",
       "      <td>1177</td>\n",
       "      <td>0</td>\n",
       "    </tr>\n",
       "    <tr>\n",
       "      <th>4</th>\n",
       "      <td>3</td>\n",
       "      <td>2</td>\n",
       "      <td>2</td>\n",
       "      <td>2</td>\n",
       "      <td>184</td>\n",
       "      <td>3</td>\n",
       "      <td>2</td>\n",
       "      <td>0</td>\n",
       "      <td>46</td>\n",
       "      <td>2484</td>\n",
       "      <td>0</td>\n",
       "    </tr>\n",
       "  </tbody>\n",
       "</table>\n",
       "</div>"
      ],
      "text/plain": [
       "   Warehouse_block  Mode_of_Shipment  Customer_care_calls  Customer_rating  \\\n",
       "0                4                 2                    4                2   \n",
       "1                5                 2                    4                5   \n",
       "2                1                 2                    2                2   \n",
       "3                2                 2                    3                3   \n",
       "4                3                 2                    2                2   \n",
       "\n",
       "   Cost_of_the_Product  Prior_purchases  Product_importance  Gender  \\\n",
       "0                  177                3                   1       0   \n",
       "1                  216                2                   1       1   \n",
       "2                  183                4                   1       1   \n",
       "3                  176                4                   2       1   \n",
       "4                  184                3                   2       0   \n",
       "\n",
       "   Discount_offered  Weight_in_gms  Reached.on.Time_Y.N  \n",
       "0                44           1233                    0  \n",
       "1                59           3088                    0  \n",
       "2                48           3374                    0  \n",
       "3                10           1177                    0  \n",
       "4                46           2484                    0  "
      ]
     },
     "execution_count": 46,
     "metadata": {},
     "output_type": "execute_result"
    }
   ],
   "source": [
    "train_df.head()"
   ]
  },
  {
   "cell_type": "markdown",
   "metadata": {},
   "source": [
    "#### All categorical labels are manually encoded for train and test data"
   ]
  },
  {
   "cell_type": "markdown",
   "metadata": {},
   "source": [
    "### Shuffling the data"
   ]
  },
  {
   "cell_type": "code",
   "execution_count": 47,
   "metadata": {},
   "outputs": [],
   "source": [
    "# shuffle the train dataset\n",
    "df=train_df.sample(frac=1).reset_index(drop=True)"
   ]
  },
  {
   "cell_type": "code",
   "execution_count": 48,
   "metadata": {},
   "outputs": [
    {
     "data": {
      "text/html": [
       "<div>\n",
       "<style scoped>\n",
       "    .dataframe tbody tr th:only-of-type {\n",
       "        vertical-align: middle;\n",
       "    }\n",
       "\n",
       "    .dataframe tbody tr th {\n",
       "        vertical-align: top;\n",
       "    }\n",
       "\n",
       "    .dataframe thead th {\n",
       "        text-align: right;\n",
       "    }\n",
       "</style>\n",
       "<table border=\"1\" class=\"dataframe\">\n",
       "  <thead>\n",
       "    <tr style=\"text-align: right;\">\n",
       "      <th></th>\n",
       "      <th>Warehouse_block</th>\n",
       "      <th>Mode_of_Shipment</th>\n",
       "      <th>Customer_care_calls</th>\n",
       "      <th>Customer_rating</th>\n",
       "      <th>Cost_of_the_Product</th>\n",
       "      <th>Prior_purchases</th>\n",
       "      <th>Product_importance</th>\n",
       "      <th>Gender</th>\n",
       "      <th>Discount_offered</th>\n",
       "      <th>Weight_in_gms</th>\n",
       "      <th>Reached.on.Time_Y.N</th>\n",
       "    </tr>\n",
       "  </thead>\n",
       "  <tbody>\n",
       "    <tr>\n",
       "      <th>0</th>\n",
       "      <td>5</td>\n",
       "      <td>2</td>\n",
       "      <td>4</td>\n",
       "      <td>1</td>\n",
       "      <td>157</td>\n",
       "      <td>3</td>\n",
       "      <td>2</td>\n",
       "      <td>1</td>\n",
       "      <td>31</td>\n",
       "      <td>1712</td>\n",
       "      <td>0</td>\n",
       "    </tr>\n",
       "    <tr>\n",
       "      <th>1</th>\n",
       "      <td>5</td>\n",
       "      <td>2</td>\n",
       "      <td>4</td>\n",
       "      <td>4</td>\n",
       "      <td>197</td>\n",
       "      <td>3</td>\n",
       "      <td>1</td>\n",
       "      <td>0</td>\n",
       "      <td>29</td>\n",
       "      <td>2915</td>\n",
       "      <td>0</td>\n",
       "    </tr>\n",
       "    <tr>\n",
       "      <th>2</th>\n",
       "      <td>5</td>\n",
       "      <td>1</td>\n",
       "      <td>3</td>\n",
       "      <td>2</td>\n",
       "      <td>234</td>\n",
       "      <td>3</td>\n",
       "      <td>2</td>\n",
       "      <td>1</td>\n",
       "      <td>39</td>\n",
       "      <td>2099</td>\n",
       "      <td>0</td>\n",
       "    </tr>\n",
       "    <tr>\n",
       "      <th>3</th>\n",
       "      <td>4</td>\n",
       "      <td>1</td>\n",
       "      <td>3</td>\n",
       "      <td>2</td>\n",
       "      <td>214</td>\n",
       "      <td>3</td>\n",
       "      <td>2</td>\n",
       "      <td>1</td>\n",
       "      <td>1</td>\n",
       "      <td>5362</td>\n",
       "      <td>1</td>\n",
       "    </tr>\n",
       "    <tr>\n",
       "      <th>4</th>\n",
       "      <td>2</td>\n",
       "      <td>1</td>\n",
       "      <td>4</td>\n",
       "      <td>2</td>\n",
       "      <td>182</td>\n",
       "      <td>3</td>\n",
       "      <td>2</td>\n",
       "      <td>1</td>\n",
       "      <td>9</td>\n",
       "      <td>5735</td>\n",
       "      <td>1</td>\n",
       "    </tr>\n",
       "  </tbody>\n",
       "</table>\n",
       "</div>"
      ],
      "text/plain": [
       "   Warehouse_block  Mode_of_Shipment  Customer_care_calls  Customer_rating  \\\n",
       "0                5                 2                    4                1   \n",
       "1                5                 2                    4                4   \n",
       "2                5                 1                    3                2   \n",
       "3                4                 1                    3                2   \n",
       "4                2                 1                    4                2   \n",
       "\n",
       "   Cost_of_the_Product  Prior_purchases  Product_importance  Gender  \\\n",
       "0                  157                3                   2       1   \n",
       "1                  197                3                   1       0   \n",
       "2                  234                3                   2       1   \n",
       "3                  214                3                   2       1   \n",
       "4                  182                3                   2       1   \n",
       "\n",
       "   Discount_offered  Weight_in_gms  Reached.on.Time_Y.N  \n",
       "0                31           1712                    0  \n",
       "1                29           2915                    0  \n",
       "2                39           2099                    0  \n",
       "3                 1           5362                    1  \n",
       "4                 9           5735                    1  "
      ]
     },
     "execution_count": 48,
     "metadata": {},
     "output_type": "execute_result"
    }
   ],
   "source": [
    "df.head()"
   ]
  },
  {
   "cell_type": "markdown",
   "metadata": {},
   "source": [
    "### Label Split"
   ]
  },
  {
   "cell_type": "code",
   "execution_count": 49,
   "metadata": {},
   "outputs": [],
   "source": [
    "x=df.iloc[:,:-1]\n",
    "y=df.iloc[:,-1]\n",
    "    #Other way\n",
    "#x=df.loc[:,df.columns !=\"Reached.on.Time_Y.N\"]\n",
    "#y=df[\"Reached.on.Time_Y.N\"]"
   ]
  },
  {
   "cell_type": "code",
   "execution_count": 50,
   "metadata": {},
   "outputs": [
    {
     "name": "stdout",
     "output_type": "stream",
     "text": [
      "(10999, 10)\n",
      "(10999,)\n"
     ]
    }
   ],
   "source": [
    "print(x.shape)\n",
    "print(y.shape)"
   ]
  },
  {
   "cell_type": "markdown",
   "metadata": {},
   "source": [
    "### Data Partition"
   ]
  },
  {
   "cell_type": "code",
   "execution_count": 51,
   "metadata": {},
   "outputs": [],
   "source": [
    "from sklearn.model_selection import train_test_split"
   ]
  },
  {
   "cell_type": "code",
   "execution_count": 52,
   "metadata": {},
   "outputs": [],
   "source": [
    "x_train,x_test, y_train, y_test = train_test_split(x, y, test_size=0.33, random_state=42)"
   ]
  },
  {
   "cell_type": "code",
   "execution_count": 53,
   "metadata": {},
   "outputs": [
    {
     "name": "stdout",
     "output_type": "stream",
     "text": [
      "dataframe shape (10999, 11)\n",
      "\n",
      "x_train shape:(7369, 10)\n",
      "x_test shape:(3630, 10)\n",
      "y_train shape:(7369,)\n",
      "y_test shape:(3630,)\n"
     ]
    }
   ],
   "source": [
    "print(\"dataframe shape {}\".format(df.shape))\n",
    "print()\n",
    "print(\"x_train shape:{}\".format(x_train.shape))\n",
    "print(\"x_test shape:{}\".format(x_test.shape))\n",
    "print(\"y_train shape:{}\".format(y_train.shape))\n",
    "print(\"y_test shape:{}\".format(y_test.shape))"
   ]
  },
  {
   "cell_type": "markdown",
   "metadata": {},
   "source": [
    "### Normalization"
   ]
  },
  {
   "cell_type": "code",
   "execution_count": 54,
   "metadata": {},
   "outputs": [],
   "source": [
    "from sklearn.preprocessing import StandardScaler\n",
    "scaler=StandardScaler()\n",
    "# fit and transform the data\n",
    "x_train=scaler.fit_transform(x_train)\n",
    "x_test=scaler.transform(x_test)\n"
   ]
  },
  {
   "cell_type": "code",
   "execution_count": 55,
   "metadata": {},
   "outputs": [
    {
     "data": {
      "text/plain": [
       "array([[ 1.12358395, -0.6335311 , -1.79134436, ..., -0.98665439,\n",
       "         1.44774472, -1.56942129],\n",
       "       [ 0.45136749, -0.6335311 , -0.91772314, ..., -0.98665439,\n",
       "        -0.27596856,  1.12321416],\n",
       "       [-0.89306543,  0.70299643, -0.91772314, ...,  1.01352613,\n",
       "        -0.33752975,  1.22562139],\n",
       "       ...,\n",
       "       [ 1.12358395, -0.6335311 , -1.79134436, ..., -0.98665439,\n",
       "        -0.64533569, -1.40139986],\n",
       "       [ 1.12358395, -0.6335311 , -0.04410193, ..., -0.98665439,\n",
       "        -0.46065212,  0.99811791],\n",
       "       [-0.22084897, -0.6335311 , -0.91772314, ...,  1.01352613,\n",
       "        -0.33752975,  0.93924909]])"
      ]
     },
     "execution_count": 55,
     "metadata": {},
     "output_type": "execute_result"
    }
   ],
   "source": [
    "x_train"
   ]
  },
  {
   "cell_type": "code",
   "execution_count": 56,
   "metadata": {},
   "outputs": [
    {
     "data": {
      "text/plain": [
       "array([[-0.89306543, -0.6335311 ,  0.82951929, ..., -0.98665439,\n",
       "        -0.70689688,  1.41939793],\n",
       "       [ 1.12358395, -0.6335311 , -0.04410193, ...,  1.01352613,\n",
       "         2.43272374, -1.13832981],\n",
       "       [-0.89306543, -0.6335311 ,  0.82951929, ..., -0.98665439,\n",
       "        -0.27596856,  1.28571664],\n",
       "       ...,\n",
       "       [ 0.45136749, -0.6335311 , -0.04410193, ...,  1.01352613,\n",
       "        -0.70689688,  1.1428371 ],\n",
       "       [ 1.12358395,  0.70299643, -0.91772314, ...,  1.01352613,\n",
       "        -0.5837745 ,  0.87731418],\n",
       "       [-0.22084897,  2.03952396,  0.82951929, ...,  1.01352613,\n",
       "        -0.27596856,  1.23849894]])"
      ]
     },
     "execution_count": 56,
     "metadata": {},
     "output_type": "execute_result"
    }
   ],
   "source": [
    "x_test"
   ]
  },
  {
   "cell_type": "markdown",
   "metadata": {},
   "source": [
    "### Logistic Regression"
   ]
  },
  {
   "cell_type": "code",
   "execution_count": 57,
   "metadata": {},
   "outputs": [],
   "source": [
    "from sklearn.linear_model import LogisticRegression\n",
    "lr=LogisticRegression()\n",
    "lr.fit(x_train,y_train)\n",
    "\n",
    "y_pred=lr.predict(x_test) #Prediction on test data"
   ]
  },
  {
   "cell_type": "code",
   "execution_count": 58,
   "metadata": {},
   "outputs": [
    {
     "name": "stdout",
     "output_type": "stream",
     "text": [
      "[[1473  641]\n",
      " [ 665  851]]\n",
      "Classification report: \n",
      "              precision    recall  f1-score   support\n",
      "\n",
      "           0       0.69      0.70      0.69      2114\n",
      "           1       0.57      0.56      0.57      1516\n",
      "\n",
      "   micro avg       0.64      0.64      0.64      3630\n",
      "   macro avg       0.63      0.63      0.63      3630\n",
      "weighted avg       0.64      0.64      0.64      3630\n",
      "\n",
      "Accuracy of the model:  0.6402203856749311\n"
     ]
    }
   ],
   "source": [
    "from sklearn.metrics import confusion_matrix,accuracy_score,classification_report\n",
    "cmf=confusion_matrix(y_test,y_pred)   #Y_test should be always passed first or else we get up wrong matrix\n",
    "print(cmf)\n",
    "\n",
    "print(\"Classification report: \")\n",
    "\n",
    "print(classification_report(y_test,y_pred))\n",
    "\n",
    "acc=accuracy_score(y_test,y_pred)\n",
    "print(\"Accuracy of the model: \",acc)"
   ]
  },
  {
   "cell_type": "markdown",
   "metadata": {},
   "source": [
    "### Using SVM"
   ]
  },
  {
   "cell_type": "code",
   "execution_count": 59,
   "metadata": {},
   "outputs": [],
   "source": [
    "from sklearn.svm import SVC\n",
    "svc_model=SVC(kernel='rbf',C=1,gamma=0.01)\n",
    "svc_model.fit(x_train, y_train)\n",
    "Y_pred=svc_model.predict(x_test)\n",
    "#print(list(Y_pred))"
   ]
  },
  {
   "cell_type": "code",
   "execution_count": 60,
   "metadata": {},
   "outputs": [
    {
     "name": "stdout",
     "output_type": "stream",
     "text": [
      "[[1473  641]\n",
      " [ 665  851]]\n",
      "Classification report: \n",
      "              precision    recall  f1-score   support\n",
      "\n",
      "           0       0.69      0.70      0.69      2114\n",
      "           1       0.57      0.56      0.57      1516\n",
      "\n",
      "   micro avg       0.64      0.64      0.64      3630\n",
      "   macro avg       0.63      0.63      0.63      3630\n",
      "weighted avg       0.64      0.64      0.64      3630\n",
      "\n",
      "Accuracy of the model:  0.6402203856749311\n"
     ]
    }
   ],
   "source": [
    "from sklearn.metrics import confusion_matrix,accuracy_score,classification_report\n",
    "cmf=confusion_matrix(y_test,y_pred)   #Y_test should be always passed first or else we get up wrong matrix\n",
    "print(cmf)\n",
    "\n",
    "print(\"Classification report: \")\n",
    "\n",
    "print(classification_report(y_test,y_pred))\n",
    "\n",
    "acc=accuracy_score(y_test,y_pred)\n",
    "print(\"Accuracy of the model: \",acc)"
   ]
  },
  {
   "cell_type": "code",
   "execution_count": 65,
   "metadata": {},
   "outputs": [
    {
     "name": "stdout",
     "output_type": "stream",
     "text": [
      "[1 0 0 ... 1 1 1]\n"
     ]
    }
   ],
   "source": [
    "from sklearn.tree import DecisionTreeClassifier\n",
    "model_DecisionTree=DecisionTreeClassifier(criterion='gini',random_state=10)\n",
    "\n",
    "#fit the model on the data and predict the values\n",
    "model_DecisionTree.fit(x_train,y_train)\n",
    "\n",
    "#Predict\n",
    "Y_pred=model_DecisionTree.predict(x_test)\n",
    "print(Y_pred)"
   ]
  },
  {
   "cell_type": "code",
   "execution_count": 66,
   "metadata": {},
   "outputs": [
    {
     "name": "stdout",
     "output_type": "stream",
     "text": [
      "[[1473  641]\n",
      " [ 665  851]]\n",
      "0.6402203856749311\n",
      "              precision    recall  f1-score   support\n",
      "\n",
      "           0       0.69      0.70      0.69      2114\n",
      "           1       0.57      0.56      0.57      1516\n",
      "\n",
      "   micro avg       0.64      0.64      0.64      3630\n",
      "   macro avg       0.63      0.63      0.63      3630\n",
      "weighted avg       0.64      0.64      0.64      3630\n",
      "\n"
     ]
    }
   ],
   "source": [
    "from sklearn.metrics import confusion_matrix,accuracy_score,classification_report\n",
    "print(confusion_matrix(y_test,y_pred))\n",
    "print(accuracy_score(y_test,y_pred))\n",
    "print(classification_report(y_test,y_pred))"
   ]
  },
  {
   "cell_type": "markdown",
   "metadata": {},
   "source": [
    "#### Every model is showing approx same result"
   ]
  },
  {
   "cell_type": "code",
   "execution_count": null,
   "metadata": {},
   "outputs": [],
   "source": []
  }
 ],
 "metadata": {
  "kernelspec": {
   "display_name": "Python 3",
   "language": "python",
   "name": "python3"
  },
  "language_info": {
   "codemirror_mode": {
    "name": "ipython",
    "version": 3
   },
   "file_extension": ".py",
   "mimetype": "text/x-python",
   "name": "python",
   "nbconvert_exporter": "python",
   "pygments_lexer": "ipython3",
   "version": "3.7.6"
  }
 },
 "nbformat": 4,
 "nbformat_minor": 4
}
